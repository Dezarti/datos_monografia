{
  "cells": [
    {
      "cell_type": "markdown",
      "metadata": {
        "id": "D9HHTlKFB9EA"
      },
      "source": [
        "# **Preprocesamiento de imágenes**\n",
        "\n",
        "El presente notebook tiene como objetivo el preprocesar las imágenes de ultrasonido antes de incorporarlas en el entrenamiento y evaluación de la inteligencia artificial."
      ]
    },
    {
      "cell_type": "markdown",
      "metadata": {
        "id": "pPrVxIhUI3Yl"
      },
      "source": [
        "## Resumen\n",
        "\n",
        "Como ya se comentó en el archivo README.md, las imágenes de ultrasonido son en su totalidad capturas de pantallas del software donde se visualizan. Generalmente estas capturas de pantalla las generan los radiólogos para poder hacer apuntes o marcas que ayuden al diagnóstico por parte del médico. Si bien se podría hacer un uso completo de todas las imágenes, la información del software que se cuela en la captura de pantalla podría ser irrelevante en el entrenamiento y de momento no se tiene claro que tanto lo podría alterar, por lo cuál a través de OpenCV (cv2) se detectaron los bordes de la imagen para generar el recorte. \n",
        "\n",
        "Este procesamiento consta de **4** códigos\n",
        "- **select_1.py**: Se encarga de tomar todas las imágenes de las que se dispone, hacer un primer filtrado a una carpeta 'selection' con 3 subcarpetas:\n",
        "    ```\n",
        "    selection\n",
        "        con_info: Guarda las imágenes que si tienen diagnóstico\n",
        "        no_apendice: Guarda las imágenes donde no es posible ver el apéndice\n",
        "        no_paciente: No se poseen los datos necesarios para clasificar estas imágenes\n",
        "    ```\n",
        "    \n",
        "- **crop_2.py**: Toma las imágenes de la subcarpetas 'con_info' y 'no_apendice', las recorta con identificación de bordes y los resultados los envía a las siguientes carpeta y subcarpetas:\n",
        "    ```\n",
        "    recortes \n",
        "        Guarda las imágenes recortadas que si tienen diágnóstico\n",
        "\n",
        "    ordenadas\n",
        "        no_apendice: Guarda directamente las imágenes recortadas que sabemos que no muestra el apendice.\n",
        "    ```\n",
        "\n",
        "- **select_3.py**: Toma todas las imágenes de la carpeta 'recortes' y las organiza en la carpeta 'ordenadas'\n",
        "    ```\n",
        "    ordenadas\n",
        "        apendicitis: Guarda las imágenes recortadas donde se ve el apéndice y el diagnóstico fue apendicitis\n",
        "        no_apendicitis: Guarda las imágenes recortadas donde se ve el apéndice y el diagnóstico fue NO apendicitis\n",
        "        no_apendice: Guarda directamente las imágenes recortadas que sabemos que no muestra el apendice.\n",
        "    ```\n",
        "\n",
        "- **ia_data_4.py**: análisis de los resultados de las imágenes.\n",
        "- **ia_data_5.py**: balanceo de las imágenes, normalización, reshape, vectorización y disposición de la info lista para utilizar en la ia.\n",
        "\n",
        "\n",
        "Es importante resaltar que todos estos códigos tuvieron que correrse localmente, pues su uso en colab suele ser más lento, dificultando el proceso de desarrollo. Una vez creadas las carpetas (deben estar vacías) que deben ser muy parecidas a las estructuradas en este repositorio, se deben correr los código en el orden marcado para evitar problemas. \n",
        "\n",
        "\n"
      ]
    },
    {
      "cell_type": "markdown",
      "metadata": {
        "id": "003BRl_FRL-P"
      },
      "source": [
        "# Metodología"
      ]
    },
    {
      "cell_type": "markdown",
      "metadata": {
        "id": "pn8dfqqDl9Sv"
      },
      "source": [
        "## Primer filtrado\n",
        "\n",
        "Son 2097 imágenes, pero se deben clasificar haciendo uso de los datos estructurados. \n",
        "\n",
        "### Carpetas:\n",
        "\n",
        "Se encarga de tomar todas las imágenes de las que se dispone, hacer un primer filtrado a una carpeta 'selection' con 3 subcarpetas:\n",
        "\n",
        "```\n",
        "    selection\n",
        "        con_info: Guarda las imágenes que si tienen diagnóstico\n",
        "        no_apendice: Guarda las imágenes donde no es posible ver el apéndice\n",
        "        no_paciente: No se poseen los datos necesarios para clasificar estas imágenes\n",
        "```   \n",
        "    "
      ]
    },
    {
      "cell_type": "code",
      "execution_count": null,
      "metadata": {
        "id": "8WIn23IDQm4J"
      },
      "outputs": [],
      "source": [
        "# select_1.py\n",
        "\n",
        "'''\n",
        "Con este código se pretenden seleccionar las imágenes que cuenten\n",
        "con información suficiente para poder entrenar el modelo\n",
        "\n",
        "El resultado de este código entrará al código 'crop.py'\n",
        "para recortar cada una de las imágenes. \n",
        "'''\n",
        "\n",
        "# Importar las librerías necesarias\n",
        "import pandas as pd\n",
        "import os\n",
        "import re\n",
        "import traceback\n",
        "import shutil\n",
        "\n",
        "# Ruta del archivo de la base de datos estructurada\n",
        "file_path = r'C:\\Users\\alema\\Desktop\\Dataset original\\app_data.xlsx'\n",
        "\n",
        "# Cargar la primera hoja del archivo Excel en un DataFrame\n",
        "df = pd.read_excel(file_path, sheet_name=0)\n",
        "\n",
        "# Columnas seleccionadas\n",
        "seleccion = ['Appendix_on_US', 'US_Number', 'Diagnosis']\n",
        "\n",
        "# Especificar las filas (todas) y columnas (seleccion) que se copiaran\n",
        "df_filtered = df.loc[:, seleccion]\n",
        "\n",
        "\n",
        "# Función para extraer el número del nombre del archivo con ayuda\n",
        "# de las funciones regulares\n",
        "def extract_number(filename):\n",
        "    match = re.match(r\"(\\d+)\", filename)\n",
        "    return int(match.group(1)) if match else None\n",
        "\n",
        "\n",
        "# Rutas de las carpetas de las imágenes originales y destino de los recortes\n",
        "folder_path = r'C:\\Users\\alema\\Desktop\\Dataset original\\US_Pictures' # Originales\n",
        "con_info = r'C:\\Users\\alema\\Desktop\\monografia\\selection\\con_info' # Imágenes usables\n",
        "no_apendice = r'C:\\Users\\alema\\Desktop\\monografia\\selection\\no_apendice' # Imágenes sin apéndice\n",
        "no_paciente = r'C:\\Users\\alema\\Desktop\\monografia\\selection\\no_paciente' # Imágenes no usables\n",
        "\n",
        "\n",
        "# Procesar cada archivo de imagen en la carpeta de entrada\n",
        "for filename in os.listdir(folder_path):\n",
        "    # Revisión que el archivo si corresponda a una imagen\n",
        "    if filename.lower().endswith(('.png', '.bmp', '.jpeg', '.jpg', '.tif')):\n",
        "        number = extract_number(filename) # número entero del archivo\n",
        "\n",
        "        # Se busca en la base de datos filtrada si el número existe y se guardan\n",
        "        # todos los valores de su fila\n",
        "        fila_correspondiente = df_filtered.loc[df_filtered['US_Number'] == number]\n",
        "\n",
        "        try:\n",
        "            # Verifica que el número y la lista si existan\n",
        "            if number is not None and fila_correspondiente.empty != True:\n",
        "\n",
        "                # Revisa si el apendice aparece en la imagen\n",
        "                if fila_correspondiente['Appendix_on_US'].iloc[0] == 'yes':\n",
        "\n",
        "                    # Revisa si el diagnóstico es appendicitis o sin esta\n",
        "                    if fila_correspondiente['Diagnosis'].iloc[0] == 'appendicitis' or\\\n",
        "                    fila_correspondiente['Diagnosis'].iloc[0] == 'no appendicitis':\n",
        "                        target_folder = con_info\n",
        "\n",
        "                    # Imágenes que no sirven en el entrenamiento\n",
        "                    else:\n",
        "                        target_folder = no_paciente\n",
        "                \n",
        "                # Imágenes donde no se ve el apéndice\n",
        "                else: \n",
        "                    target_folder = no_apendice\n",
        "\n",
        "            # Imágenes cuyos pacientes NO existen en la base de datos\n",
        "            else:\n",
        "                target_folder = no_paciente\n",
        "\n",
        "            # Determinar la carpeta de destino y mover el archivo\n",
        "            shutil.move(os.path.join(folder_path, filename),\n",
        "                        os.path.join(target_folder, filename))\n",
        "\n",
        "        except Exception as e:\n",
        "            # Si hay un error, imprimirlo y continuar con la siguiente imagen\n",
        "            print(f\"No se pudo procesar el archivo: {filename}: {e}\")\n",
        "            traceback.print_exc() # Imprime el tipo de error"
      ]
    },
    {
      "cell_type": "markdown",
      "metadata": {
        "id": "nx92rGfaRPcN"
      },
      "source": [
        "## Recorte\n",
        "\n",
        "Aquí se hace uso de la identificación de bordes y se especifica que se descarten aquellos bordes menores a 250 pixeles y cuyo lado más  largo sea mayor a 1.5 veces el lado más corto. Esto evita que se recorten pequeños cuadros que hay en las capturas de pantalla.\n",
        "\n",
        "### Carpetas:\n",
        "Toma las imágenes de la subcarpetas 'con_info' y 'no_apendice', las recorta con identificación de bordes y los resultados los envía a las siguientes carpeta y subcarpetas:\n",
        "    \n",
        "```\n",
        "    recortes \n",
        "        Guarda las imágenes recortadas que si tienen diágnóstico\n",
        "\n",
        "    ordenadas\n",
        "        no_apendice: Guarda directamente las imágenes recortadas que sabemos que no muestra el apendice.\n",
        " ```\n"
      ]
    },
    {
      "cell_type": "code",
      "execution_count": null,
      "metadata": {},
      "outputs": [],
      "source": [
        "# crop.py\n",
        "\n",
        "import cv2\n",
        "import os\n",
        "\n",
        "def ajustar_niveles(imagen, nivel_min, nivel_max):\n",
        "    \"\"\"\n",
        "    Ajusta los niveles de la imagen utilizando cv2.normalize.\n",
        "    \"\"\"\n",
        "    return cv2.normalize(imagen, None, alpha=nivel_min, beta=nivel_max, norm_type=cv2.NORM_MINMAX)\n",
        "\n",
        "def encontrar_y_recortar_imagen(input_path, output_path):\n",
        "    \"\"\"\n",
        "    Encuentra la imagen de ultrasonido dentro de una captura de pantalla y la recorta\n",
        "    sin modificar el brillo y el contraste en la imagen recortada.\n",
        "    \"\"\"\n",
        "    # Leer la imagen original\n",
        "    imagen_original = cv2.imread(input_path, cv2.IMREAD_UNCHANGED)\n",
        "    \n",
        "    # Convertir la imagen a escala de grises\n",
        "    imagen_gris = cv2.cvtColor(imagen_original, cv2.COLOR_BGR2GRAY)\n",
        "    \n",
        "    # Ajustar los niveles de la imagen para mejorar el contraste\n",
        "    imagen_contrastada = ajustar_niveles(imagen_gris, 0, 255)\n",
        "    \n",
        "    # Umbralizar la imagen para obtener una binarización\n",
        "    _, imagen_binaria = cv2.threshold(imagen_contrastada, 1, 255, cv2.THRESH_BINARY)\n",
        "    \n",
        "    # Encontrar los contornos en la imagen binaria\n",
        "    contornos, _ = cv2.findContours(imagen_binaria, cv2.RETR_EXTERNAL, cv2.CHAIN_APPROX_SIMPLE)\n",
        "    \n",
        "    # Procesar cada contorno encontrado\n",
        "    for contorno in contornos:\n",
        "        # Calcular el rectángulo delimitador para el contorno\n",
        "        x, y, ancho, alto = cv2.boundingRect(contorno)\n",
        "        borde_mas_corto = min(ancho, alto)\n",
        "        borde_mas_largo = max(ancho, alto)\n",
        "        proporcion = borde_mas_largo / borde_mas_corto\n",
        "\n",
        "        # Comprobar si el contorno cumple con las condiciones de tamaño mínimo y proporción\n",
        "        if borde_mas_corto >= 250 and proporcion <= 1.5:\n",
        "            # Recortar la imagen original (sin ajustes de contraste) según el contorno que cumple con los requisitos\n",
        "            imagen_recortada = imagen_original[y:y+alto, x:x+ancho]\n",
        "            \n",
        "            # Guardar la imagen recortada\n",
        "            cv2.imwrite(output_path, imagen_recortada)\n",
        "            break  # Terminar después de procesar el primer contorno válido\n",
        "\n",
        "# Rutas de las carpetas de las imágenes originales y destino de los recortes\n",
        "## Para LAs que tienen diagnóstico\n",
        "input_folder1 = r'C:\\Users\\alema\\Desktop\\monografia\\selection\\con_info'\n",
        "output_folder1 = r'C:\\Users\\alema\\Desktop\\monografia\\recortes\\con_info'\n",
        "\n",
        "## Para las que no tienen apéndice en la imagen\n",
        "input_folder2 = r'C:\\Users\\alema\\Desktop\\monografia\\selection\\no_apendice'\n",
        "output_folder2 = r'C:\\Users\\alema\\Desktop\\monografia\\ordenadas\\no_apendice'\n",
        "\n",
        "# Procesar cada archivo de imagen en la carpeta de entrada\n",
        "def ubicar(input_folder, output_folder):\n",
        "    '''\n",
        "    Esta función permite a unas rutas dadas tomar las fotos que allí\n",
        "    se encuentran, recortarlas y moverlas a otra ubicación\n",
        "    '''\n",
        "    for filename in os.listdir(input_folder):\n",
        "        try:\n",
        "            if filename.lower().endswith(('.png', '.jpg', '.jpeg', '.bmp')):\n",
        "                input_path = os.path.join(input_folder, filename)\n",
        "                base_name = os.path.splitext(filename)[0] + '.png'  # Cambiar la extensión a .png\n",
        "                output_path = os.path.join(output_folder, base_name)\n",
        "                \n",
        "                # Intentar procesar la imagen\n",
        "                try:\n",
        "                    encontrar_y_recortar_imagen(input_path, output_path)\n",
        "                except Exception as e:\n",
        "                    print(f\"No se pudo procesar el archivo {filename}: {e}\")\n",
        "        except Exception as e:\n",
        "            print(f\"No se pudo procesar el archivo {filename}: {e}\")\n",
        "\n",
        "# Procesar imágenes con diagnóstico\n",
        "ubicar(input_folder1, output_folder1)\n",
        "\n",
        "# Procesar imágenes sin apendice\n",
        "ubicar(input_folder2, output_folder2)\n"
      ]
    },
    {
      "cell_type": "markdown",
      "metadata": {
        "id": "RkfKhGJ3SqGj"
      },
      "source": [
        "## Ordenar\n",
        "Hasta el momento solo se tienen ordenadas las imágenes donde el apendice no es visible, pero esto se resuelve con los siguientes códigos.\n",
        "\n",
        "### Carpetas\n",
        "Toma todas las imágenes de la carpeta 'recortes' y las organiza en la carpeta 'ordenadas'\n",
        "\n",
        "```\n",
        "    ordenadas\n",
        "        apendicitis: Guarda las imágenes recortadas donde se ve el apéndice y el diagnóstico fue apendicitis\n",
        "        no_apendicitis: Guarda las imágenes recortadas donde se ve el apéndice y el diagnóstico fue NO apendicitis\n",
        "        no_apendice: Guarda directamente las imágenes recortadas que sabemos que no muestra el apendice.\n",
        "```"
      ]
    },
    {
      "cell_type": "code",
      "execution_count": null,
      "metadata": {},
      "outputs": [],
      "source": [
        "# select_3.py\n",
        "\n",
        "import os # Para navegar por las carpetas de colab\n",
        "import re # Para trabajar con expresiones regulares\n",
        "import shutil # Para cambiar los archivos de ubicación\n",
        "import traceback # Para usar con try except\n",
        "import pandas as pd\n",
        "\n",
        "\n",
        "# Ruta del archivo de la base de datos estructurada\n",
        "file_path = r'C:\\Users\\alema\\Desktop\\Dataset original\\app_data.xlsx'\n",
        "\n",
        "# Cargar la primera hoja del archivo Excel en un DataFrame\n",
        "df = pd.read_excel(file_path, sheet_name=0)\n",
        "\n",
        "# Columnas seleccionadas\n",
        "seleccion = ['Appendix_on_US', 'US_Number', 'Diagnosis']\n",
        "\n",
        "# Especificar las filas (todas) y columnas (seleccion) que se copiaran\n",
        "df_filtered = df.loc[:, seleccion]\n",
        "\n",
        "\n",
        "# Ruta a la carpeta donde están las imágenes sin ordenar\n",
        "folder_path = r'C:\\Users\\alema\\Desktop\\monografia\\recortes\\con_info'\n",
        "\n",
        "# Rutas a las carpetas donde se ordenarán las imágenes\n",
        "apendicitis = r'C:\\Users\\alema\\Desktop\\monografia\\ordenadas\\apendicitis'\n",
        "no_apendicitis = r'C:\\Users\\alema\\Desktop\\monografia\\ordenadas\\no_apendicitis'\n",
        "no_apendice = r'C:\\Users\\alema\\Desktop\\monografia\\ordenadas\\no_apendice'\n",
        "no_classification = r'C:\\Users\\alema\\Desktop\\monografia\\ordenadas\\no_classification'\n",
        "no_id = r'C:\\Users\\alema\\Desktop\\monografia\\ordenadas\\no_id'\n",
        "\n",
        "# Función para extraer el número del nombre del archivo con ayuda\n",
        "# de las funciones regulares\n",
        "def extract_number(filename):\n",
        "    match = re.match(r\"(\\d+)\", filename)\n",
        "    return int(match.group(1)) if match else None\n",
        "\n",
        "# Procesar cada archivo en la carpeta\n",
        "count = 0 # Para poder almacenar los resultados en df_results\n",
        "for filename in os.listdir(folder_path):\n",
        "    # Revisión que el archivo si corresponda a una imagen\n",
        "    if filename.lower().endswith(('.png', '.bmp', '.jpeg', '.jpg', '.tif')):\n",
        "        number = extract_number(filename) # número entero del archivo\n",
        "\n",
        "        # Se busca en la base de datos filtrada si el número existe y se guardan\n",
        "        # todos los valores de su fila\n",
        "        fila_correspondiente = df_filtered.loc[df_filtered['US_Number'] == number]\n",
        "\n",
        "        try:\n",
        "\n",
        "            # Revisa si el diagnóstico es appendicitis o sin esta\n",
        "            if fila_correspondiente['Diagnosis'].iloc[0] == 'no appendicitis':\n",
        "                target_folder = no_apendicitis\n",
        "\n",
        "            else:\n",
        "                target_folder = apendicitis\n",
        "\n",
        "            # Determinar la carpeta de destino y mover el archivo\n",
        "            shutil.move(os.path.join(folder_path, filename),\n",
        "                        os.path.join(target_folder, filename))\n",
        "\n",
        "        except Exception as e:\n",
        "            # Si hay un error, imprimirlo y continuar con la siguiente imagen\n",
        "            print(f\"No se pudo procesar el archivo: {filename}: {e}\")\n",
        "            traceback.print_exc() # Imprime el tipo de error"
      ]
    },
    {
      "cell_type": "markdown",
      "metadata": {
        "id": "WGGlDFFZe27f"
      },
      "source": [
        "Finalizando esta etapa, se procedió a revisar los resultados y limpiar manualmente un par de imágenes que parecían no ser importantes. "
      ]
    },
    {
      "cell_type": "markdown",
      "metadata": {
        "id": "Q1DxMmalyvYV"
      },
      "source": [
        "## Procesamiento\n",
        "\n",
        "De aquí en adelante lo que procura es generar una base de datos con las imágenes la cual pueda ser usada para el entrenamiento del modelo a desarrollar.\n",
        "\n",
        "Este preprocesamiento de imágenes debe ir orientado al modelo que se piensa desarrollar y para ello es importante recordar que la propuesta de este trabajo es el uso de redes neuronales convolucionales, pero cuando se crea una red neuronal nueva todos sus parámetros inician de manera totalmente aleatoria y mediante el entrenamiento se ajustan gradualmente, el problema radica en que en este caso se cuenta únicamente con cientos de datos lo que dificulta este proceso y aumenta el riesgo de caer en sobreajuste.\n",
        "\n",
        "Por lo anterior se buscará hacer un proceso de \"transferencia de aprendizaje\" es decir, tomar un modelo que sea bueno reconociendo imágenes de cualquier tipo y entrenarlo sobre este set. Se pretende usar [MobileNetV2](https://tfhub.dev/google/imagenet/mobilenet_v2_130_224/feature_vector/5) donde se descartarían todas las salidas existentes del modelo (1001 clasificaciones), es decir, la útima capa, para remplazarla por otra con 3 clasificaciones ('sin apendice', 'apendicitis', 'no_apendicitis') y se entrenarían solo las últimas capas del modelo (sin tocar las otras), posteriormente se podrían entrenar todas las capas, pero con una tasa de aprendizaje muy baja. Esta entrega no pretende profundizar más sobre esa metodología, pero se deseaba que el lector comprendiese el camino a tomar en futuras entregas."
      ]
    },
    {
      "cell_type": "markdown",
      "metadata": {},
      "source": [
        "### Cuantificación\n",
        "Antes del procesamiento de las imágenes, se debe generar una cuantificación de estas dependiendo su categoría con el fin de identificar desbalanceos. "
      ]
    },
    {
      "cell_type": "code",
      "execution_count": 3,
      "metadata": {},
      "outputs": [
        {
          "data": {
            "image/png": "[encoded data removed]",
            "text/plain": [
              "<Figure size 640x480 with 1 Axes>"
            ]
          },
          "metadata": {},
          "output_type": "display_data"
        },
        {
          "name": "stdout",
          "output_type": "stream",
          "text": [
            "\n",
            "    Apendicitis: 1097, \n",
            "    No Apendicitis: 231,\n",
            "    No Apéndice: 186\n",
            "\n"
          ]
        }
      ],
      "source": [
        "# ia_data_4.py\n",
        "\n",
        "import pandas as pd\n",
        "import os\n",
        "import matplotlib.pyplot as plt\n",
        "\n",
        "# Rutas de archivos\n",
        "apendicitis = os.listdir(r'C:\\Users\\alema\\Desktop\\monografia\\ordenadas\\apendicitis')\n",
        "no_apendice = os.listdir(r'C:\\Users\\alema\\Desktop\\monografia\\ordenadas\\no_apendice')\n",
        "no_apendicitis = os.listdir(r'C:\\Users\\alema\\Desktop\\monografia\\ordenadas\\no_apendicitis')\n",
        "\n",
        "# Conteo de archivos en cada categoría\n",
        "count = {\n",
        "    'Apendicitis': len(apendicitis), \n",
        "    'No Apendicitis': len(no_apendicitis),\n",
        "    'No Apéndice': len(no_apendice)\n",
        "}\n",
        "\n",
        "# Crear un DataFrame a partir del diccionario\n",
        "df = pd.DataFrame(list(count.items()), columns=['Clase', 'Cantidad'])\n",
        "\n",
        "# Colores pastel\n",
        "colors = plt.cm.Pastel1.colors\n",
        "\n",
        "# Crear un gráfico de barras\n",
        "plt.bar(df['Clase'], df['Cantidad'], color = colors)\n",
        "plt.xlabel('Clases')\n",
        "plt.ylabel('Cantidad de Imágenes')\n",
        "plt.title('Distribución de clases')\n",
        "plt.xticks(rotation=45)  # Rotar las etiquetas si son demasiado largas\n",
        "plt.tight_layout()  # Ajustar automáticamente los parámetros de la subtrama\n",
        "plt.show()\n",
        "\n",
        "# Información para balancear\n",
        "print(f'''\n",
        "    Apendicitis: {len(apendicitis)}, \n",
        "    No Apendicitis: {len(no_apendicitis)},\n",
        "    No Apéndice: {len(no_apendice)}\n",
        "''')"
      ]
    },
    {
      "cell_type": "markdown",
      "metadata": {},
      "source": [
        "El dataset está desbalanceado, por ende se opta por eliminar aleatoriamente instancias de la clase mayoritaria (Undersampling)"
      ]
    },
    {
      "cell_type": "code",
      "execution_count": null,
      "metadata": {},
      "outputs": [],
      "source": []
    },
    {
      "cell_type": "markdown",
      "metadata": {
        "id": "yo3oBdt7byks"
      },
      "source": [
        "# Referencias\n",
        "\n",
        "-\n",
        "-"
      ]
    }
  ],
  "metadata": {
    "colab": {
      "provenance": []
    },
    "kernelspec": {
      "display_name": "Python 3",
      "name": "python3"
    },
    "language_info": {
      "codemirror_mode": {
        "name": "ipython",
        "version": 3
      },
      "file_extension": ".py",
      "mimetype": "text/x-python",
      "name": "python",
      "nbconvert_exporter": "python",
      "pygments_lexer": "ipython3",
      "version": "3.11.6"
    }
  },
  "nbformat": 4,
  "nbformat_minor": 0
}
